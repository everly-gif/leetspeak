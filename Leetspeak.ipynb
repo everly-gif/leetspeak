{
 "cells": [
  {
   "cell_type": "code",
   "execution_count": null,
   "metadata": {},
   "outputs": [
    {
     "name": "stdout",
     "output_type": "stream",
     "text": [
      "Do you want to cipher(1) or decode(2) your text?1\n",
      "Enter your message: everly\n",
      "Leetspeak for everly is 3v3rly\n",
      "Do you still want to continue ? (Y/N): Y\n",
      "Do you want to cipher(1) or decode(2) your text?2\n",
      "Enter your message: 3v3rly\n",
      "Decoded text for 3v3rly is everly\n"
     ]
    }
   ],
   "source": [
    "import random\n",
    "\n",
    "def converttoleet(message):\n",
    "    leetmessage=\"\"\n",
    "    charMapping = { 'a': ['4', '@', '/-\\\\'], 'c': ['('], 'd': ['|)'], 'e': ['3'], 'f': ['ph'], 'h': [']-[', '|-|'], 'i': ['1', '!', '|'], 'k': [']<'], 'o': ['0'], 's': ['$', '5'], 't': ['7', '+'], 'u': ['|_|'], 'v': ['\\\\/']}\n",
    "    for char in message:\n",
    "        if(char.lower() in charMapping.keys() and (random.random() <=0.70)):\n",
    "            possiblereplacements=charMapping.get(char.lower(),\"\")\n",
    "            leetmessage+=random.choice(possiblereplacements)\n",
    "        else:\n",
    "            leetmessage+=char\n",
    "    return leetmessage\n",
    "\n",
    "def leettotext(message):\n",
    "    text=\"\"\n",
    "    charMapping ={'4':['a'],'@':['a'],'/-\\\\':['a'],'(':['c'],'|)':['d'],'3':['e'],'ph':['f'],']-[':['h'],'|-|':['h'],'1':['i'],'!':['i'],'|':['i'],']<':['k'],'0':['o'],'$':['s'],'5':['s'],'7':['t'],'+':['t'],'|_|':['u'],'\\\\/':['v'],'a':['a'],'b':['b'],'c':['c'],'d':['d'],'e':['e'],'f':['f'],'g':['g'],'h':['h'],'i':['i'],'j':['j'],'k':['k'],'l':['l'],'m':['m'],'n':['n'],'o':['o'],'p':['p'],'q':['q'],'r':['r'],'s':['s'],'t':['t'],'u':['u'],'v':['v'],'w':['w'],'x':['x'],'y':['y'],'z':['z']}                                                                                                 \n",
    "    for char in message:\n",
    "        if(char in charMapping.keys()):\n",
    "            decoded_replacements=charMapping.get(char,\"\")\n",
    "            text+=random.choice(decoded_replacements)\n",
    "        else:\n",
    "            text+=char\n",
    "    return text\n",
    "\n",
    "y='Y'\n",
    "while y=='Y'or y=='y':\n",
    "    input_options=input(\"Do you want to cipher(1) or decode(2) your text?\")\n",
    "    if input_options=='1':\n",
    "        input_message=input(\"Enter your message: \")\n",
    "        output_message=converttoleet(input_message)\n",
    "        print(\"Leetspeak for {} is {}\".format(input_message,output_message))\n",
    "    elif input_options=='2':\n",
    "        input_message=input(\"Enter your message: \")\n",
    "        output_message=leettotext(input_message)\n",
    "        print(\"Decoded text for {} is {}\".format(input_message,output_message))\n",
    "    else:\n",
    "        print(\"Please input a correct a option number\")\n",
    "\n",
    "    y=input(\"Do you still want to continue ? (Y/N): \")"
   ]
  },
  {
   "cell_type": "code",
   "execution_count": null,
   "metadata": {},
   "outputs": [],
   "source": []
  },
  {
   "cell_type": "code",
   "execution_count": null,
   "metadata": {},
   "outputs": [],
   "source": []
  }
 ],
 "metadata": {
  "kernelspec": {
   "display_name": "Python 3",
   "language": "python",
   "name": "python3"
  },
  "language_info": {
   "codemirror_mode": {
    "name": "ipython",
    "version": 3
   },
   "file_extension": ".py",
   "mimetype": "text/x-python",
   "name": "python",
   "nbconvert_exporter": "python",
   "pygments_lexer": "ipython3",
   "version": "3.8.5"
  }
 },
 "nbformat": 4,
 "nbformat_minor": 4
}
